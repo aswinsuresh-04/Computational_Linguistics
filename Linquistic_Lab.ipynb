{
  "nbformat": 4,
  "nbformat_minor": 0,
  "metadata": {
    "colab": {
      "provenance": [],
      "authorship_tag": "ABX9TyPFIT8mTqcdI+MINi2yRyYo",
      "include_colab_link": true
    },
    "kernelspec": {
      "name": "python3",
      "display_name": "Python 3"
    },
    "language_info": {
      "name": "python"
    },
    "widgets": {
      "application/vnd.jupyter.widget-state+json": {
        "283789a09a48489bb3122ba365884e7f": {
          "model_module": "@jupyter-widgets/controls",
          "model_name": "HBoxModel",
          "model_module_version": "1.5.0",
          "state": {
            "_dom_classes": [],
            "_model_module": "@jupyter-widgets/controls",
            "_model_module_version": "1.5.0",
            "_model_name": "HBoxModel",
            "_view_count": null,
            "_view_module": "@jupyter-widgets/controls",
            "_view_module_version": "1.5.0",
            "_view_name": "HBoxView",
            "box_style": "",
            "children": [
              "IPY_MODEL_2be653080a5f4a93b53c4a932dc3de78",
              "IPY_MODEL_1d0be08c20484b72b393c352ca8cbfe8",
              "IPY_MODEL_883585d3dacb4965a0e303f93918e9a9"
            ],
            "layout": "IPY_MODEL_2df6adef380041a399091df23ffed92d"
          }
        },
        "2be653080a5f4a93b53c4a932dc3de78": {
          "model_module": "@jupyter-widgets/controls",
          "model_name": "HTMLModel",
          "model_module_version": "1.5.0",
          "state": {
            "_dom_classes": [],
            "_model_module": "@jupyter-widgets/controls",
            "_model_module_version": "1.5.0",
            "_model_name": "HTMLModel",
            "_view_count": null,
            "_view_module": "@jupyter-widgets/controls",
            "_view_module_version": "1.5.0",
            "_view_name": "HTMLView",
            "description": "",
            "description_tooltip": null,
            "layout": "IPY_MODEL_5c215e0fb562467bb5af69b2411b7d00",
            "placeholder": "​",
            "style": "IPY_MODEL_908f943880d34714bcd7a5d7995a3717",
            "value": "Downloading https://raw.githubusercontent.com/stanfordnlp/stanza-resources/main/resources_1.11.0.json: "
          }
        },
        "1d0be08c20484b72b393c352ca8cbfe8": {
          "model_module": "@jupyter-widgets/controls",
          "model_name": "FloatProgressModel",
          "model_module_version": "1.5.0",
          "state": {
            "_dom_classes": [],
            "_model_module": "@jupyter-widgets/controls",
            "_model_module_version": "1.5.0",
            "_model_name": "FloatProgressModel",
            "_view_count": null,
            "_view_module": "@jupyter-widgets/controls",
            "_view_module_version": "1.5.0",
            "_view_name": "ProgressView",
            "bar_style": "success",
            "description": "",
            "description_tooltip": null,
            "layout": "IPY_MODEL_b0f8aec28ca248b9bde40359deca2e98",
            "max": 53650,
            "min": 0,
            "orientation": "horizontal",
            "style": "IPY_MODEL_92676113b5474e9daf599deb651f3de1",
            "value": 53650
          }
        },
        "883585d3dacb4965a0e303f93918e9a9": {
          "model_module": "@jupyter-widgets/controls",
          "model_name": "HTMLModel",
          "model_module_version": "1.5.0",
          "state": {
            "_dom_classes": [],
            "_model_module": "@jupyter-widgets/controls",
            "_model_module_version": "1.5.0",
            "_model_name": "HTMLModel",
            "_view_count": null,
            "_view_module": "@jupyter-widgets/controls",
            "_view_module_version": "1.5.0",
            "_view_name": "HTMLView",
            "description": "",
            "description_tooltip": null,
            "layout": "IPY_MODEL_d559d4e5866c45a6a72adfff80352cea",
            "placeholder": "​",
            "style": "IPY_MODEL_b33ca65715594d069a1bdb3bef6c4722",
            "value": " 435k/? [00:00&lt;00:00, 7.24MB/s]"
          }
        },
        "2df6adef380041a399091df23ffed92d": {
          "model_module": "@jupyter-widgets/base",
          "model_name": "LayoutModel",
          "model_module_version": "1.2.0",
          "state": {
            "_model_module": "@jupyter-widgets/base",
            "_model_module_version": "1.2.0",
            "_model_name": "LayoutModel",
            "_view_count": null,
            "_view_module": "@jupyter-widgets/base",
            "_view_module_version": "1.2.0",
            "_view_name": "LayoutView",
            "align_content": null,
            "align_items": null,
            "align_self": null,
            "border": null,
            "bottom": null,
            "display": null,
            "flex": null,
            "flex_flow": null,
            "grid_area": null,
            "grid_auto_columns": null,
            "grid_auto_flow": null,
            "grid_auto_rows": null,
            "grid_column": null,
            "grid_gap": null,
            "grid_row": null,
            "grid_template_areas": null,
            "grid_template_columns": null,
            "grid_template_rows": null,
            "height": null,
            "justify_content": null,
            "justify_items": null,
            "left": null,
            "margin": null,
            "max_height": null,
            "max_width": null,
            "min_height": null,
            "min_width": null,
            "object_fit": null,
            "object_position": null,
            "order": null,
            "overflow": null,
            "overflow_x": null,
            "overflow_y": null,
            "padding": null,
            "right": null,
            "top": null,
            "visibility": null,
            "width": null
          }
        },
        "5c215e0fb562467bb5af69b2411b7d00": {
          "model_module": "@jupyter-widgets/base",
          "model_name": "LayoutModel",
          "model_module_version": "1.2.0",
          "state": {
            "_model_module": "@jupyter-widgets/base",
            "_model_module_version": "1.2.0",
            "_model_name": "LayoutModel",
            "_view_count": null,
            "_view_module": "@jupyter-widgets/base",
            "_view_module_version": "1.2.0",
            "_view_name": "LayoutView",
            "align_content": null,
            "align_items": null,
            "align_self": null,
            "border": null,
            "bottom": null,
            "display": null,
            "flex": null,
            "flex_flow": null,
            "grid_area": null,
            "grid_auto_columns": null,
            "grid_auto_flow": null,
            "grid_auto_rows": null,
            "grid_column": null,
            "grid_gap": null,
            "grid_row": null,
            "grid_template_areas": null,
            "grid_template_columns": null,
            "grid_template_rows": null,
            "height": null,
            "justify_content": null,
            "justify_items": null,
            "left": null,
            "margin": null,
            "max_height": null,
            "max_width": null,
            "min_height": null,
            "min_width": null,
            "object_fit": null,
            "object_position": null,
            "order": null,
            "overflow": null,
            "overflow_x": null,
            "overflow_y": null,
            "padding": null,
            "right": null,
            "top": null,
            "visibility": null,
            "width": null
          }
        },
        "908f943880d34714bcd7a5d7995a3717": {
          "model_module": "@jupyter-widgets/controls",
          "model_name": "DescriptionStyleModel",
          "model_module_version": "1.5.0",
          "state": {
            "_model_module": "@jupyter-widgets/controls",
            "_model_module_version": "1.5.0",
            "_model_name": "DescriptionStyleModel",
            "_view_count": null,
            "_view_module": "@jupyter-widgets/base",
            "_view_module_version": "1.2.0",
            "_view_name": "StyleView",
            "description_width": ""
          }
        },
        "b0f8aec28ca248b9bde40359deca2e98": {
          "model_module": "@jupyter-widgets/base",
          "model_name": "LayoutModel",
          "model_module_version": "1.2.0",
          "state": {
            "_model_module": "@jupyter-widgets/base",
            "_model_module_version": "1.2.0",
            "_model_name": "LayoutModel",
            "_view_count": null,
            "_view_module": "@jupyter-widgets/base",
            "_view_module_version": "1.2.0",
            "_view_name": "LayoutView",
            "align_content": null,
            "align_items": null,
            "align_self": null,
            "border": null,
            "bottom": null,
            "display": null,
            "flex": null,
            "flex_flow": null,
            "grid_area": null,
            "grid_auto_columns": null,
            "grid_auto_flow": null,
            "grid_auto_rows": null,
            "grid_column": null,
            "grid_gap": null,
            "grid_row": null,
            "grid_template_areas": null,
            "grid_template_columns": null,
            "grid_template_rows": null,
            "height": null,
            "justify_content": null,
            "justify_items": null,
            "left": null,
            "margin": null,
            "max_height": null,
            "max_width": null,
            "min_height": null,
            "min_width": null,
            "object_fit": null,
            "object_position": null,
            "order": null,
            "overflow": null,
            "overflow_x": null,
            "overflow_y": null,
            "padding": null,
            "right": null,
            "top": null,
            "visibility": null,
            "width": null
          }
        },
        "92676113b5474e9daf599deb651f3de1": {
          "model_module": "@jupyter-widgets/controls",
          "model_name": "ProgressStyleModel",
          "model_module_version": "1.5.0",
          "state": {
            "_model_module": "@jupyter-widgets/controls",
            "_model_module_version": "1.5.0",
            "_model_name": "ProgressStyleModel",
            "_view_count": null,
            "_view_module": "@jupyter-widgets/base",
            "_view_module_version": "1.2.0",
            "_view_name": "StyleView",
            "bar_color": null,
            "description_width": ""
          }
        },
        "d559d4e5866c45a6a72adfff80352cea": {
          "model_module": "@jupyter-widgets/base",
          "model_name": "LayoutModel",
          "model_module_version": "1.2.0",
          "state": {
            "_model_module": "@jupyter-widgets/base",
            "_model_module_version": "1.2.0",
            "_model_name": "LayoutModel",
            "_view_count": null,
            "_view_module": "@jupyter-widgets/base",
            "_view_module_version": "1.2.0",
            "_view_name": "LayoutView",
            "align_content": null,
            "align_items": null,
            "align_self": null,
            "border": null,
            "bottom": null,
            "display": null,
            "flex": null,
            "flex_flow": null,
            "grid_area": null,
            "grid_auto_columns": null,
            "grid_auto_flow": null,
            "grid_auto_rows": null,
            "grid_column": null,
            "grid_gap": null,
            "grid_row": null,
            "grid_template_areas": null,
            "grid_template_columns": null,
            "grid_template_rows": null,
            "height": null,
            "justify_content": null,
            "justify_items": null,
            "left": null,
            "margin": null,
            "max_height": null,
            "max_width": null,
            "min_height": null,
            "min_width": null,
            "object_fit": null,
            "object_position": null,
            "order": null,
            "overflow": null,
            "overflow_x": null,
            "overflow_y": null,
            "padding": null,
            "right": null,
            "top": null,
            "visibility": null,
            "width": null
          }
        },
        "b33ca65715594d069a1bdb3bef6c4722": {
          "model_module": "@jupyter-widgets/controls",
          "model_name": "DescriptionStyleModel",
          "model_module_version": "1.5.0",
          "state": {
            "_model_module": "@jupyter-widgets/controls",
            "_model_module_version": "1.5.0",
            "_model_name": "DescriptionStyleModel",
            "_view_count": null,
            "_view_module": "@jupyter-widgets/base",
            "_view_module_version": "1.2.0",
            "_view_name": "StyleView",
            "description_width": ""
          }
        },
        "e90de2eb1c8a4ea687abda0e6c2e573e": {
          "model_module": "@jupyter-widgets/controls",
          "model_name": "HBoxModel",
          "model_module_version": "1.5.0",
          "state": {
            "_dom_classes": [],
            "_model_module": "@jupyter-widgets/controls",
            "_model_module_version": "1.5.0",
            "_model_name": "HBoxModel",
            "_view_count": null,
            "_view_module": "@jupyter-widgets/controls",
            "_view_module_version": "1.5.0",
            "_view_name": "HBoxView",
            "box_style": "",
            "children": [
              "IPY_MODEL_eb7e9b244ad0464d813f8ab46d49bd6f",
              "IPY_MODEL_1b28e348edc64d069bcc86d2bcbc48d6",
              "IPY_MODEL_c65b77118d09413489420666f205ba21"
            ],
            "layout": "IPY_MODEL_a111e72facf848d4b959e9817f821112"
          }
        },
        "eb7e9b244ad0464d813f8ab46d49bd6f": {
          "model_module": "@jupyter-widgets/controls",
          "model_name": "HTMLModel",
          "model_module_version": "1.5.0",
          "state": {
            "_dom_classes": [],
            "_model_module": "@jupyter-widgets/controls",
            "_model_module_version": "1.5.0",
            "_model_name": "HTMLModel",
            "_view_count": null,
            "_view_module": "@jupyter-widgets/controls",
            "_view_module_version": "1.5.0",
            "_view_name": "HTMLView",
            "description": "",
            "description_tooltip": null,
            "layout": "IPY_MODEL_d4d20d32e05a433fa2bf53aa6cf0edf3",
            "placeholder": "​",
            "style": "IPY_MODEL_b35677eb32234ce9b97c15ad7be9ac35",
            "value": "Downloading https://raw.githubusercontent.com/stanfordnlp/stanza-resources/main/resources_1.11.0.json: "
          }
        },
        "1b28e348edc64d069bcc86d2bcbc48d6": {
          "model_module": "@jupyter-widgets/controls",
          "model_name": "FloatProgressModel",
          "model_module_version": "1.5.0",
          "state": {
            "_dom_classes": [],
            "_model_module": "@jupyter-widgets/controls",
            "_model_module_version": "1.5.0",
            "_model_name": "FloatProgressModel",
            "_view_count": null,
            "_view_module": "@jupyter-widgets/controls",
            "_view_module_version": "1.5.0",
            "_view_name": "ProgressView",
            "bar_style": "success",
            "description": "",
            "description_tooltip": null,
            "layout": "IPY_MODEL_b5340457e05946b8a5384ad17813b760",
            "max": 53650,
            "min": 0,
            "orientation": "horizontal",
            "style": "IPY_MODEL_72291aece4c14cb6bbbc12a68008f4f6",
            "value": 53650
          }
        },
        "c65b77118d09413489420666f205ba21": {
          "model_module": "@jupyter-widgets/controls",
          "model_name": "HTMLModel",
          "model_module_version": "1.5.0",
          "state": {
            "_dom_classes": [],
            "_model_module": "@jupyter-widgets/controls",
            "_model_module_version": "1.5.0",
            "_model_name": "HTMLModel",
            "_view_count": null,
            "_view_module": "@jupyter-widgets/controls",
            "_view_module_version": "1.5.0",
            "_view_name": "HTMLView",
            "description": "",
            "description_tooltip": null,
            "layout": "IPY_MODEL_d599ab328eed45df8054ff077dea8ed8",
            "placeholder": "​",
            "style": "IPY_MODEL_131929cf37bc4e5a99e2c5b7a1cf0f21",
            "value": " 435k/? [00:00&lt;00:00, 5.79MB/s]"
          }
        },
        "a111e72facf848d4b959e9817f821112": {
          "model_module": "@jupyter-widgets/base",
          "model_name": "LayoutModel",
          "model_module_version": "1.2.0",
          "state": {
            "_model_module": "@jupyter-widgets/base",
            "_model_module_version": "1.2.0",
            "_model_name": "LayoutModel",
            "_view_count": null,
            "_view_module": "@jupyter-widgets/base",
            "_view_module_version": "1.2.0",
            "_view_name": "LayoutView",
            "align_content": null,
            "align_items": null,
            "align_self": null,
            "border": null,
            "bottom": null,
            "display": null,
            "flex": null,
            "flex_flow": null,
            "grid_area": null,
            "grid_auto_columns": null,
            "grid_auto_flow": null,
            "grid_auto_rows": null,
            "grid_column": null,
            "grid_gap": null,
            "grid_row": null,
            "grid_template_areas": null,
            "grid_template_columns": null,
            "grid_template_rows": null,
            "height": null,
            "justify_content": null,
            "justify_items": null,
            "left": null,
            "margin": null,
            "max_height": null,
            "max_width": null,
            "min_height": null,
            "min_width": null,
            "object_fit": null,
            "object_position": null,
            "order": null,
            "overflow": null,
            "overflow_x": null,
            "overflow_y": null,
            "padding": null,
            "right": null,
            "top": null,
            "visibility": null,
            "width": null
          }
        },
        "d4d20d32e05a433fa2bf53aa6cf0edf3": {
          "model_module": "@jupyter-widgets/base",
          "model_name": "LayoutModel",
          "model_module_version": "1.2.0",
          "state": {
            "_model_module": "@jupyter-widgets/base",
            "_model_module_version": "1.2.0",
            "_model_name": "LayoutModel",
            "_view_count": null,
            "_view_module": "@jupyter-widgets/base",
            "_view_module_version": "1.2.0",
            "_view_name": "LayoutView",
            "align_content": null,
            "align_items": null,
            "align_self": null,
            "border": null,
            "bottom": null,
            "display": null,
            "flex": null,
            "flex_flow": null,
            "grid_area": null,
            "grid_auto_columns": null,
            "grid_auto_flow": null,
            "grid_auto_rows": null,
            "grid_column": null,
            "grid_gap": null,
            "grid_row": null,
            "grid_template_areas": null,
            "grid_template_columns": null,
            "grid_template_rows": null,
            "height": null,
            "justify_content": null,
            "justify_items": null,
            "left": null,
            "margin": null,
            "max_height": null,
            "max_width": null,
            "min_height": null,
            "min_width": null,
            "object_fit": null,
            "object_position": null,
            "order": null,
            "overflow": null,
            "overflow_x": null,
            "overflow_y": null,
            "padding": null,
            "right": null,
            "top": null,
            "visibility": null,
            "width": null
          }
        },
        "b35677eb32234ce9b97c15ad7be9ac35": {
          "model_module": "@jupyter-widgets/controls",
          "model_name": "DescriptionStyleModel",
          "model_module_version": "1.5.0",
          "state": {
            "_model_module": "@jupyter-widgets/controls",
            "_model_module_version": "1.5.0",
            "_model_name": "DescriptionStyleModel",
            "_view_count": null,
            "_view_module": "@jupyter-widgets/base",
            "_view_module_version": "1.2.0",
            "_view_name": "StyleView",
            "description_width": ""
          }
        },
        "b5340457e05946b8a5384ad17813b760": {
          "model_module": "@jupyter-widgets/base",
          "model_name": "LayoutModel",
          "model_module_version": "1.2.0",
          "state": {
            "_model_module": "@jupyter-widgets/base",
            "_model_module_version": "1.2.0",
            "_model_name": "LayoutModel",
            "_view_count": null,
            "_view_module": "@jupyter-widgets/base",
            "_view_module_version": "1.2.0",
            "_view_name": "LayoutView",
            "align_content": null,
            "align_items": null,
            "align_self": null,
            "border": null,
            "bottom": null,
            "display": null,
            "flex": null,
            "flex_flow": null,
            "grid_area": null,
            "grid_auto_columns": null,
            "grid_auto_flow": null,
            "grid_auto_rows": null,
            "grid_column": null,
            "grid_gap": null,
            "grid_row": null,
            "grid_template_areas": null,
            "grid_template_columns": null,
            "grid_template_rows": null,
            "height": null,
            "justify_content": null,
            "justify_items": null,
            "left": null,
            "margin": null,
            "max_height": null,
            "max_width": null,
            "min_height": null,
            "min_width": null,
            "object_fit": null,
            "object_position": null,
            "order": null,
            "overflow": null,
            "overflow_x": null,
            "overflow_y": null,
            "padding": null,
            "right": null,
            "top": null,
            "visibility": null,
            "width": null
          }
        },
        "72291aece4c14cb6bbbc12a68008f4f6": {
          "model_module": "@jupyter-widgets/controls",
          "model_name": "ProgressStyleModel",
          "model_module_version": "1.5.0",
          "state": {
            "_model_module": "@jupyter-widgets/controls",
            "_model_module_version": "1.5.0",
            "_model_name": "ProgressStyleModel",
            "_view_count": null,
            "_view_module": "@jupyter-widgets/base",
            "_view_module_version": "1.2.0",
            "_view_name": "StyleView",
            "bar_color": null,
            "description_width": ""
          }
        },
        "d599ab328eed45df8054ff077dea8ed8": {
          "model_module": "@jupyter-widgets/base",
          "model_name": "LayoutModel",
          "model_module_version": "1.2.0",
          "state": {
            "_model_module": "@jupyter-widgets/base",
            "_model_module_version": "1.2.0",
            "_model_name": "LayoutModel",
            "_view_count": null,
            "_view_module": "@jupyter-widgets/base",
            "_view_module_version": "1.2.0",
            "_view_name": "LayoutView",
            "align_content": null,
            "align_items": null,
            "align_self": null,
            "border": null,
            "bottom": null,
            "display": null,
            "flex": null,
            "flex_flow": null,
            "grid_area": null,
            "grid_auto_columns": null,
            "grid_auto_flow": null,
            "grid_auto_rows": null,
            "grid_column": null,
            "grid_gap": null,
            "grid_row": null,
            "grid_template_areas": null,
            "grid_template_columns": null,
            "grid_template_rows": null,
            "height": null,
            "justify_content": null,
            "justify_items": null,
            "left": null,
            "margin": null,
            "max_height": null,
            "max_width": null,
            "min_height": null,
            "min_width": null,
            "object_fit": null,
            "object_position": null,
            "order": null,
            "overflow": null,
            "overflow_x": null,
            "overflow_y": null,
            "padding": null,
            "right": null,
            "top": null,
            "visibility": null,
            "width": null
          }
        },
        "131929cf37bc4e5a99e2c5b7a1cf0f21": {
          "model_module": "@jupyter-widgets/controls",
          "model_name": "DescriptionStyleModel",
          "model_module_version": "1.5.0",
          "state": {
            "_model_module": "@jupyter-widgets/controls",
            "_model_module_version": "1.5.0",
            "_model_name": "DescriptionStyleModel",
            "_view_count": null,
            "_view_module": "@jupyter-widgets/base",
            "_view_module_version": "1.2.0",
            "_view_name": "StyleView",
            "description_width": ""
          }
        }
      }
    }
  },
  "cells": [
    {
      "cell_type": "markdown",
      "metadata": {
        "id": "view-in-github",
        "colab_type": "text"
      },
      "source": [
        "<a href=\"https://colab.research.google.com/github/aswinsuresh-04/Computational_Linguistics/blob/main/Linquistic_Lab.ipynb\" target=\"_parent\"><img src=\"https://colab.research.google.com/assets/colab-badge.svg\" alt=\"Open In Colab\"/></a>"
      ]
    },
    {
      "cell_type": "markdown",
      "source": [
        "\n",
        "Extract digit from a string\n"
      ],
      "metadata": {
        "id": "IGiDDgAWxYKq"
      }
    },
    {
      "cell_type": "code",
      "execution_count": null,
      "metadata": {
        "id": "noFV7wh0gthY",
        "colab": {
          "base_uri": "https://localhost:8080/"
        },
        "outputId": "5bd9d959-977b-40c0-cdc6-f1f177c50819"
      },
      "outputs": [
        {
          "output_type": "stream",
          "name": "stdout",
          "text": [
            "Enter a string: abcd123efg32hij76767\n",
            "Extracted digits: 1233276767\n"
          ]
        }
      ],
      "source": [
        "#Extract digit from a string\n",
        "\n",
        "string = input(\"Enter a string: \")\n",
        "digits = \"\"\n",
        "\n",
        "for char in string:\n",
        "    if char.isdigit():\n",
        "        digits += char\n",
        "\n",
        "print(\"Extracted digits:\", digits)"
      ]
    },
    {
      "cell_type": "markdown",
      "source": [
        "\n",
        "Extract phone number from a string\n"
      ],
      "metadata": {
        "id": "WfoCosyrxTR5"
      }
    },
    {
      "cell_type": "code",
      "source": [
        "#Extract phone number from a string\n",
        "\n",
        "def extract_phone_numbers(text):\n",
        "    digits = \"\"\n",
        "    phone_numbers = []\n",
        "\n",
        "    for char in text:\n",
        "        if char.isdigit():\n",
        "            digits += char\n",
        "        else:\n",
        "            if len(digits) == 10:\n",
        "                phone_numbers.append(digits)\n",
        "            digits = \"\"\n",
        "\n",
        "    if len(digits) == 10:\n",
        "        phone_numbers.append(digits)\n",
        "\n",
        "    return phone_numbers\n",
        "\n",
        "text = input(\"Enter a string containing 10-digit phone numbers: \")\n",
        "result = extract_phone_numbers(text)\n",
        "if result:\n",
        "    print(\"Phone numbers found:\", result)\n",
        "else:\n",
        "    print(\"No 10-digit phone number found.\")"
      ],
      "metadata": {
        "id": "hY7tp6-8h6ic",
        "colab": {
          "base_uri": "https://localhost:8080/"
        },
        "outputId": "ad2382a3-8dd3-45d4-c0cf-7062cfbbabbb"
      },
      "execution_count": null,
      "outputs": [
        {
          "output_type": "stream",
          "name": "stdout",
          "text": [
            "Enter a string containing 10-digit phone numbers: 1234567890 is my number 0987654321 is his number 0987654323 is her number\n",
            "Phone numbers found: ['1234567890', '0987654321', '0987654323']\n"
          ]
        }
      ]
    },
    {
      "cell_type": "markdown",
      "source": [
        "Extract phone number from a string"
      ],
      "metadata": {
        "id": "cB6mr8HKxPu-"
      }
    },
    {
      "cell_type": "code",
      "source": [
        "#Extract gmail from a string\n",
        "\n",
        "def extract_email(text):\n",
        "    emails = []\n",
        "    current = \"\"\n",
        "    in_email = False\n",
        "    i = 0\n",
        "\n",
        "    while i < len(text):\n",
        "        char = text[i]\n",
        "\n",
        "        # Start collecting if we find a letter, number, or allowed email characters\n",
        "        if char.isalnum() or char in \"@.-_\":\n",
        "            current += char\n",
        "            in_email = True\n",
        "        else:\n",
        "            # If we were building an email and hit a non-email character, check if valid\n",
        "            if in_email:\n",
        "                if is_valid_email(current):\n",
        "                    emails.append(current)\n",
        "                current = \"\"\n",
        "                in_email = False\n",
        "            # Skip spaces or other non-email characters\n",
        "        i += 1\n",
        "\n",
        "    # Check if there's a valid email at the end of the string\n",
        "    if in_email and is_valid_email(current):\n",
        "        emails.append(current)\n",
        "\n",
        "    return emails\n",
        "\n",
        "def is_valid_email(s):\n",
        "    # Check for exactly one @ and at least one . after it\n",
        "    if s.count(\"@\") != 1 or \".\" not in s.split(\"@\")[1]:\n",
        "        return False\n",
        "    # Ensure there's at least one character before and after @\n",
        "    user, domain = s.split(\"@\")\n",
        "    if not user or not domain:\n",
        "        return False\n",
        "    # Basic check for valid characters (alphanumeric, dots, hyphens, underscores)\n",
        "    for char in user:\n",
        "        if not (char.isalnum() or char in \".-_\"):\n",
        "            return False\n",
        "    for char in domain:\n",
        "        if not (char.isalnum() or char in \".-\"):\n",
        "            return False\n",
        "    return True\n",
        "\n",
        "# Get input from user\n",
        "text = input(\"Enter a string containing email addresses: \")\n",
        "result = extract_email(text)\n",
        "if result:\n",
        "    print(\"Email addresses found:\", result)\n",
        "else:\n",
        "    print(\"No valid email addresses found.\")"
      ],
      "metadata": {
        "id": "V1Pc3Mw00eSg"
      },
      "execution_count": null,
      "outputs": []
    },
    {
      "cell_type": "code",
      "source": [
        "#20/08/2025 - WEDNESDAY#"
      ],
      "metadata": {
        "id": "B2CFr7uZ4s7i"
      },
      "execution_count": null,
      "outputs": []
    },
    {
      "cell_type": "markdown",
      "source": [
        "Implement simple rule based tokenizer for the English language, using regular expressions. Your tokenizer should consider  punctuations and special symbols as separate tokens. contractions like 'isn't' should be regarded as two tokens: is and n't, also identify abbreviations(eg: USA) and internal hyphenation(ice-cream) as single tokens"
      ],
      "metadata": {
        "id": "9zUqoZQ4xAHY"
      }
    },
    {
      "cell_type": "markdown",
      "source": [],
      "metadata": {
        "id": "NEt9g_66xJ1w"
      }
    },
    {
      "cell_type": "code",
      "source": [
        "def simple_tokenizer(text):\n",
        "    tokens = []\n",
        "    current = \"\"\n",
        "\n",
        "    for ch in text:\n",
        "        if ch.isalnum() or ch in [\"-\", \"'\"]:   # letters, numbers, hyphen, apostrophe\n",
        "            current += ch\n",
        "        elif ch == \".\":\n",
        "            if current and current[-1].isalpha() and len(current) == 1:\n",
        "                # case like \"U.S.A.\"\n",
        "                current += \".\"\n",
        "            elif current and current[-1] == \".\":\n",
        "                # continuation of abbreviation\n",
        "                current += \".\"\n",
        "            elif current and \".\" in current:\n",
        "                # already abbreviation like U.S.A.\n",
        "                current += \".\"\n",
        "            else:\n",
        "                if current:\n",
        "                    tokens.append(current)\n",
        "                    current = \"\"\n",
        "                tokens.append(\".\")\n",
        "        else:\n",
        "            if current:\n",
        "                tokens.append(current)\n",
        "                current = \"\"\n",
        "            if not ch.isspace():\n",
        "                tokens.append(ch)\n",
        "\n",
        "    if current:\n",
        "        tokens.append(current)\n",
        "\n",
        "    # Fix contractions like isn't -> is + n't\n",
        "    final_tokens = []\n",
        "    for token in tokens:\n",
        "        if \"'\" in token and not token.startswith(\"'\"):\n",
        "            if token.endswith(\"n't\"):  # isn't, don't, can't\n",
        "                final_tokens.append(token[:-3])\n",
        "                final_tokens.append(\"n't\")\n",
        "            else:\n",
        "                idx = token.index(\"'\")\n",
        "                first, second = token[:idx], token[idx:]\n",
        "                if first:\n",
        "                    final_tokens.append(first)\n",
        "                final_tokens.append(second)\n",
        "        else:\n",
        "            final_tokens.append(token)\n",
        "\n",
        "    return final_tokens\n",
        "\n",
        "\n",
        "# Let user enter input\n",
        "text = input(\"Enter a sentence: \")\n",
        "print(simple_tokenizer(text))\n"
      ],
      "metadata": {
        "colab": {
          "base_uri": "https://localhost:8080/"
        },
        "id": "Y6IySWhFq2aH",
        "outputId": "adb6a2d8-66c0-4d17-ae86-fc961f36d2bb"
      },
      "execution_count": null,
      "outputs": [
        {
          "output_type": "stream",
          "name": "stdout",
          "text": [
            "Enter a sentence: John isn't sure if Dr. Smith lives in the U.S.A., but he's certain that ice-cream, well-known desserts, and cakes are popular there!\n",
            "['John', 'is', \"n't\", 'sure', 'if', 'Dr', '.', 'Smith', 'lives', 'in', 'the', 'U.S.A.', ',', 'but', 'he', \"'s\", 'certain', 'that', 'ice-cream', ',', 'well-known', 'desserts', ',', 'and', 'cakes', 'are', 'popular', 'there', '!']\n"
          ]
        }
      ]
    },
    {
      "cell_type": "markdown",
      "source": [
        "Write a program or a script that corrects a single non-word spelling error based on the noisy channel model."
      ],
      "metadata": {
        "id": "U2fRCSPbGbR9"
      }
    },
    {
      "cell_type": "code",
      "source": [
        "# Noisy Channel Model Spell Correction with Edit Distance\n",
        "\n",
        "def edit_distance(a, b):\n",
        "    \"\"\"Compute Levenshtein edit distance between two words.\"\"\"\n",
        "    dp = [[0] * (len(b) + 1) for _ in range(len(a) + 1)]\n",
        "    for i in range(len(a) + 1):\n",
        "        for j in range(len(b) + 1):\n",
        "            if i == 0:\n",
        "                dp[i][j] = j\n",
        "            elif j == 0:\n",
        "                dp[i][j] = i\n",
        "            elif a[i-1] == b[j-1]:\n",
        "                dp[i][j] = dp[i-1][j-1]\n",
        "            else:\n",
        "                dp[i][j] = 1 + min(dp[i-1][j], dp[i][j-1], dp[i-1][j-1])\n",
        "    return dp[-1][-1]\n",
        "\n",
        "# Step 1: Input dictionary\n",
        "dictionary = input(\"Enter dictionary words (space-separated): \").split()\n",
        "\n",
        "# Step 2: Input misspelled word\n",
        "misspelled = input(\"Enter the misspelled word: \")\n",
        "\n",
        "# Step 3: Assumptions\n",
        "P_prior = {w: 1/len(dictionary) for w in dictionary}  # Equal priors\n",
        "\n",
        "# Step 4: Score calculation\n",
        "scores = {}\n",
        "for w in dictionary:\n",
        "    dist = edit_distance(misspelled, w)\n",
        "    # Smaller distance = higher probability\n",
        "    P_s_given_w = 1 / (1 + dist)\n",
        "    scores[w] = round(P_s_given_w * P_prior[w], 3)\n",
        "\n",
        "# Step 5: Best correction\n",
        "best_correction = max(scores, key=scores.get)\n",
        "\n",
        "# Output\n",
        "print(\"\\nMisspelled word:\", misspelled)\n",
        "print(\"Candidates and scores:\", scores)\n",
        "print(\"Best correction:\", best_correction)\n"
      ],
      "metadata": {
        "colab": {
          "base_uri": "https://localhost:8080/"
        },
        "id": "hz0ldBGwDry8",
        "outputId": "8ec53c05-244c-49ab-aecf-c8a6d354052d"
      },
      "execution_count": null,
      "outputs": [
        {
          "output_type": "stream",
          "name": "stdout",
          "text": [
            "Enter dictionary words (space-separated): work word world wreck\n",
            "Enter the misspelled word: wrok\n",
            "\n",
            "Misspelled word: wrok\n",
            "Candidates and scores: {'work': 0.083, 'word': 0.062, 'world': 0.062, 'wreck': 0.083}\n",
            "Best correction: work\n"
          ]
        }
      ]
    },
    {
      "cell_type": "markdown",
      "source": [
        "Perform POS Tagging for an Indian lang (hindi since malayalam is too tough) using a pretrained model or dataset.  \n",
        "Task:\n",
        "  - Load a small set of sentences in the target lang.\n",
        "  - Use libraries such as Stanza(?), IndiaNLP, or NLTK to tag parts of speech.\n",
        "  - Identify common tag types and compare with english tags.\n",
        "  - Discuss the challenges of POS tagging in morphologically rich lang.\n"
      ],
      "metadata": {
        "id": "HoK050R0N3Sz"
      }
    },
    {
      "cell_type": "code",
      "source": [
        "pip install transformers torch\n"
      ],
      "metadata": {
        "colab": {
          "base_uri": "https://localhost:8080/"
        },
        "id": "10JFNcDPOS1E",
        "outputId": "3f9d78b1-67c3-4ebf-b497-ede5e263907a"
      },
      "execution_count": 6,
      "outputs": [
        {
          "output_type": "stream",
          "name": "stdout",
          "text": [
            "Requirement already satisfied: transformers in /usr/local/lib/python3.12/dist-packages (4.57.0)\n",
            "Requirement already satisfied: torch in /usr/local/lib/python3.12/dist-packages (2.8.0+cu126)\n",
            "Requirement already satisfied: filelock in /usr/local/lib/python3.12/dist-packages (from transformers) (3.20.0)\n",
            "Requirement already satisfied: huggingface-hub<1.0,>=0.34.0 in /usr/local/lib/python3.12/dist-packages (from transformers) (0.35.3)\n",
            "Requirement already satisfied: numpy>=1.17 in /usr/local/lib/python3.12/dist-packages (from transformers) (2.0.2)\n",
            "Requirement already satisfied: packaging>=20.0 in /usr/local/lib/python3.12/dist-packages (from transformers) (25.0)\n",
            "Requirement already satisfied: pyyaml>=5.1 in /usr/local/lib/python3.12/dist-packages (from transformers) (6.0.3)\n",
            "Requirement already satisfied: regex!=2019.12.17 in /usr/local/lib/python3.12/dist-packages (from transformers) (2024.11.6)\n",
            "Requirement already satisfied: requests in /usr/local/lib/python3.12/dist-packages (from transformers) (2.32.4)\n",
            "Requirement already satisfied: tokenizers<=0.23.0,>=0.22.0 in /usr/local/lib/python3.12/dist-packages (from transformers) (0.22.1)\n",
            "Requirement already satisfied: safetensors>=0.4.3 in /usr/local/lib/python3.12/dist-packages (from transformers) (0.6.2)\n",
            "Requirement already satisfied: tqdm>=4.27 in /usr/local/lib/python3.12/dist-packages (from transformers) (4.67.1)\n",
            "Requirement already satisfied: typing-extensions>=4.10.0 in /usr/local/lib/python3.12/dist-packages (from torch) (4.15.0)\n",
            "Requirement already satisfied: setuptools in /usr/local/lib/python3.12/dist-packages (from torch) (75.2.0)\n",
            "Requirement already satisfied: sympy>=1.13.3 in /usr/local/lib/python3.12/dist-packages (from torch) (1.13.3)\n",
            "Requirement already satisfied: networkx in /usr/local/lib/python3.12/dist-packages (from torch) (3.5)\n",
            "Requirement already satisfied: jinja2 in /usr/local/lib/python3.12/dist-packages (from torch) (3.1.6)\n",
            "Requirement already satisfied: fsspec in /usr/local/lib/python3.12/dist-packages (from torch) (2025.3.0)\n",
            "Requirement already satisfied: nvidia-cuda-nvrtc-cu12==12.6.77 in /usr/local/lib/python3.12/dist-packages (from torch) (12.6.77)\n",
            "Requirement already satisfied: nvidia-cuda-runtime-cu12==12.6.77 in /usr/local/lib/python3.12/dist-packages (from torch) (12.6.77)\n",
            "Requirement already satisfied: nvidia-cuda-cupti-cu12==12.6.80 in /usr/local/lib/python3.12/dist-packages (from torch) (12.6.80)\n",
            "Requirement already satisfied: nvidia-cudnn-cu12==9.10.2.21 in /usr/local/lib/python3.12/dist-packages (from torch) (9.10.2.21)\n",
            "Requirement already satisfied: nvidia-cublas-cu12==12.6.4.1 in /usr/local/lib/python3.12/dist-packages (from torch) (12.6.4.1)\n",
            "Requirement already satisfied: nvidia-cufft-cu12==11.3.0.4 in /usr/local/lib/python3.12/dist-packages (from torch) (11.3.0.4)\n",
            "Requirement already satisfied: nvidia-curand-cu12==10.3.7.77 in /usr/local/lib/python3.12/dist-packages (from torch) (10.3.7.77)\n",
            "Requirement already satisfied: nvidia-cusolver-cu12==11.7.1.2 in /usr/local/lib/python3.12/dist-packages (from torch) (11.7.1.2)\n",
            "Requirement already satisfied: nvidia-cusparse-cu12==12.5.4.2 in /usr/local/lib/python3.12/dist-packages (from torch) (12.5.4.2)\n",
            "Requirement already satisfied: nvidia-cusparselt-cu12==0.7.1 in /usr/local/lib/python3.12/dist-packages (from torch) (0.7.1)\n",
            "Requirement already satisfied: nvidia-nccl-cu12==2.27.3 in /usr/local/lib/python3.12/dist-packages (from torch) (2.27.3)\n",
            "Requirement already satisfied: nvidia-nvtx-cu12==12.6.77 in /usr/local/lib/python3.12/dist-packages (from torch) (12.6.77)\n",
            "Requirement already satisfied: nvidia-nvjitlink-cu12==12.6.85 in /usr/local/lib/python3.12/dist-packages (from torch) (12.6.85)\n",
            "Requirement already satisfied: nvidia-cufile-cu12==1.11.1.6 in /usr/local/lib/python3.12/dist-packages (from torch) (1.11.1.6)\n",
            "Requirement already satisfied: triton==3.4.0 in /usr/local/lib/python3.12/dist-packages (from torch) (3.4.0)\n",
            "Requirement already satisfied: hf-xet<2.0.0,>=1.1.3 in /usr/local/lib/python3.12/dist-packages (from huggingface-hub<1.0,>=0.34.0->transformers) (1.1.10)\n",
            "Requirement already satisfied: mpmath<1.4,>=1.1.0 in /usr/local/lib/python3.12/dist-packages (from sympy>=1.13.3->torch) (1.3.0)\n",
            "Requirement already satisfied: MarkupSafe>=2.0 in /usr/local/lib/python3.12/dist-packages (from jinja2->torch) (3.0.3)\n",
            "Requirement already satisfied: charset_normalizer<4,>=2 in /usr/local/lib/python3.12/dist-packages (from requests->transformers) (3.4.3)\n",
            "Requirement already satisfied: idna<4,>=2.5 in /usr/local/lib/python3.12/dist-packages (from requests->transformers) (3.10)\n",
            "Requirement already satisfied: urllib3<3,>=1.21.1 in /usr/local/lib/python3.12/dist-packages (from requests->transformers) (2.5.0)\n",
            "Requirement already satisfied: certifi>=2017.4.17 in /usr/local/lib/python3.12/dist-packages (from requests->transformers) (2025.10.5)\n"
          ]
        }
      ]
    },
    {
      "cell_type": "code",
      "source": [
        "from transformers import AutoTokenizer, AutoModelForTokenClassification\n",
        "from transformers import pipeline\n",
        "\n",
        "# MuRIL model (supports 17 Indian languages including Malayalam)\n",
        "model_name = \"google/muril-base-cased\"\n",
        "\n",
        "tokenizer = AutoTokenizer.from_pretrained(model_name)\n",
        "model = AutoModelForTokenClassification.from_pretrained(model_name)\n",
        "\n",
        "nlp = pipeline(\"token-classification\", model=model, tokenizer=tokenizer)\n",
        "\n",
        "text = \"ഞാൻ പുസ്തകം വായിക്കുന്നു.\"  # I am reading a book\n",
        "\n",
        "result = nlp(text)\n",
        "for token in result:\n",
        "    print(token)\n"
      ],
      "metadata": {
        "colab": {
          "base_uri": "https://localhost:8080/"
        },
        "id": "ZYu-pHWzPkH7",
        "outputId": "2b4ff00f-bd21-45c2-d8d1-f5b02a4bd3ee"
      },
      "execution_count": 8,
      "outputs": [
        {
          "output_type": "stream",
          "name": "stderr",
          "text": [
            "Some weights of BertForTokenClassification were not initialized from the model checkpoint at google/muril-base-cased and are newly initialized: ['classifier.bias', 'classifier.weight']\n",
            "You should probably TRAIN this model on a down-stream task to be able to use it for predictions and inference.\n",
            "Device set to use cpu\n"
          ]
        },
        {
          "output_type": "stream",
          "name": "stdout",
          "text": [
            "{'entity': 'LABEL_1', 'score': np.float32(0.5048954), 'index': 1, 'word': 'ഞാൻ', 'start': 0, 'end': 3}\n",
            "{'entity': 'LABEL_1', 'score': np.float32(0.50455445), 'index': 2, 'word': 'പുസ്തകം', 'start': 4, 'end': 11}\n",
            "{'entity': 'LABEL_1', 'score': np.float32(0.50409645), 'index': 3, 'word': 'വായ', 'start': 12, 'end': 15}\n",
            "{'entity': 'LABEL_1', 'score': np.float32(0.5049926), 'index': 4, 'word': '##ിക്കുന്നു', 'start': 15, 'end': 24}\n",
            "{'entity': 'LABEL_1', 'score': np.float32(0.5048647), 'index': 5, 'word': '.', 'start': 24, 'end': 25}\n"
          ]
        }
      ]
    },
    {
      "cell_type": "code",
      "source": [
        "pip install stanza"
      ],
      "metadata": {
        "colab": {
          "base_uri": "https://localhost:8080/"
        },
        "id": "y0X6K4SzQdZs",
        "outputId": "9a52c208-7c83-452f-def8-5fb563dbf7e3"
      },
      "execution_count": 9,
      "outputs": [
        {
          "output_type": "stream",
          "name": "stdout",
          "text": [
            "Requirement already satisfied: stanza in /usr/local/lib/python3.12/dist-packages (1.11.0)\n",
            "Requirement already satisfied: emoji in /usr/local/lib/python3.12/dist-packages (from stanza) (2.15.0)\n",
            "Requirement already satisfied: numpy in /usr/local/lib/python3.12/dist-packages (from stanza) (2.0.2)\n",
            "Requirement already satisfied: protobuf>=3.15.0 in /usr/local/lib/python3.12/dist-packages (from stanza) (5.29.5)\n",
            "Requirement already satisfied: requests in /usr/local/lib/python3.12/dist-packages (from stanza) (2.32.4)\n",
            "Requirement already satisfied: networkx in /usr/local/lib/python3.12/dist-packages (from stanza) (3.5)\n",
            "Requirement already satisfied: torch>=1.13.0 in /usr/local/lib/python3.12/dist-packages (from stanza) (2.8.0+cu126)\n",
            "Requirement already satisfied: tqdm in /usr/local/lib/python3.12/dist-packages (from stanza) (4.67.1)\n",
            "Requirement already satisfied: filelock in /usr/local/lib/python3.12/dist-packages (from torch>=1.13.0->stanza) (3.20.0)\n",
            "Requirement already satisfied: typing-extensions>=4.10.0 in /usr/local/lib/python3.12/dist-packages (from torch>=1.13.0->stanza) (4.15.0)\n",
            "Requirement already satisfied: setuptools in /usr/local/lib/python3.12/dist-packages (from torch>=1.13.0->stanza) (75.2.0)\n",
            "Requirement already satisfied: sympy>=1.13.3 in /usr/local/lib/python3.12/dist-packages (from torch>=1.13.0->stanza) (1.13.3)\n",
            "Requirement already satisfied: jinja2 in /usr/local/lib/python3.12/dist-packages (from torch>=1.13.0->stanza) (3.1.6)\n",
            "Requirement already satisfied: fsspec in /usr/local/lib/python3.12/dist-packages (from torch>=1.13.0->stanza) (2025.3.0)\n",
            "Requirement already satisfied: nvidia-cuda-nvrtc-cu12==12.6.77 in /usr/local/lib/python3.12/dist-packages (from torch>=1.13.0->stanza) (12.6.77)\n",
            "Requirement already satisfied: nvidia-cuda-runtime-cu12==12.6.77 in /usr/local/lib/python3.12/dist-packages (from torch>=1.13.0->stanza) (12.6.77)\n",
            "Requirement already satisfied: nvidia-cuda-cupti-cu12==12.6.80 in /usr/local/lib/python3.12/dist-packages (from torch>=1.13.0->stanza) (12.6.80)\n",
            "Requirement already satisfied: nvidia-cudnn-cu12==9.10.2.21 in /usr/local/lib/python3.12/dist-packages (from torch>=1.13.0->stanza) (9.10.2.21)\n",
            "Requirement already satisfied: nvidia-cublas-cu12==12.6.4.1 in /usr/local/lib/python3.12/dist-packages (from torch>=1.13.0->stanza) (12.6.4.1)\n",
            "Requirement already satisfied: nvidia-cufft-cu12==11.3.0.4 in /usr/local/lib/python3.12/dist-packages (from torch>=1.13.0->stanza) (11.3.0.4)\n",
            "Requirement already satisfied: nvidia-curand-cu12==10.3.7.77 in /usr/local/lib/python3.12/dist-packages (from torch>=1.13.0->stanza) (10.3.7.77)\n",
            "Requirement already satisfied: nvidia-cusolver-cu12==11.7.1.2 in /usr/local/lib/python3.12/dist-packages (from torch>=1.13.0->stanza) (11.7.1.2)\n",
            "Requirement already satisfied: nvidia-cusparse-cu12==12.5.4.2 in /usr/local/lib/python3.12/dist-packages (from torch>=1.13.0->stanza) (12.5.4.2)\n",
            "Requirement already satisfied: nvidia-cusparselt-cu12==0.7.1 in /usr/local/lib/python3.12/dist-packages (from torch>=1.13.0->stanza) (0.7.1)\n",
            "Requirement already satisfied: nvidia-nccl-cu12==2.27.3 in /usr/local/lib/python3.12/dist-packages (from torch>=1.13.0->stanza) (2.27.3)\n",
            "Requirement already satisfied: nvidia-nvtx-cu12==12.6.77 in /usr/local/lib/python3.12/dist-packages (from torch>=1.13.0->stanza) (12.6.77)\n",
            "Requirement already satisfied: nvidia-nvjitlink-cu12==12.6.85 in /usr/local/lib/python3.12/dist-packages (from torch>=1.13.0->stanza) (12.6.85)\n",
            "Requirement already satisfied: nvidia-cufile-cu12==1.11.1.6 in /usr/local/lib/python3.12/dist-packages (from torch>=1.13.0->stanza) (1.11.1.6)\n",
            "Requirement already satisfied: triton==3.4.0 in /usr/local/lib/python3.12/dist-packages (from torch>=1.13.0->stanza) (3.4.0)\n",
            "Requirement already satisfied: charset_normalizer<4,>=2 in /usr/local/lib/python3.12/dist-packages (from requests->stanza) (3.4.3)\n",
            "Requirement already satisfied: idna<4,>=2.5 in /usr/local/lib/python3.12/dist-packages (from requests->stanza) (3.10)\n",
            "Requirement already satisfied: urllib3<3,>=1.21.1 in /usr/local/lib/python3.12/dist-packages (from requests->stanza) (2.5.0)\n",
            "Requirement already satisfied: certifi>=2017.4.17 in /usr/local/lib/python3.12/dist-packages (from requests->stanza) (2025.10.5)\n",
            "Requirement already satisfied: mpmath<1.4,>=1.1.0 in /usr/local/lib/python3.12/dist-packages (from sympy>=1.13.3->torch>=1.13.0->stanza) (1.3.0)\n",
            "Requirement already satisfied: MarkupSafe>=2.0 in /usr/local/lib/python3.12/dist-packages (from jinja2->torch>=1.13.0->stanza) (3.0.3)\n"
          ]
        }
      ]
    },
    {
      "cell_type": "code",
      "source": [
        "import stanza\n",
        "\n",
        "# Download Hindi model (first time only)\n",
        "stanza.download('hi')\n",
        "\n",
        "# Load the pipeline\n",
        "nlp = stanza.Pipeline('hi', processors='tokenize,pos')"
      ],
      "metadata": {
        "colab": {
          "base_uri": "https://localhost:8080/",
          "height": 403,
          "referenced_widgets": [
            "283789a09a48489bb3122ba365884e7f",
            "2be653080a5f4a93b53c4a932dc3de78",
            "1d0be08c20484b72b393c352ca8cbfe8",
            "883585d3dacb4965a0e303f93918e9a9",
            "2df6adef380041a399091df23ffed92d",
            "5c215e0fb562467bb5af69b2411b7d00",
            "908f943880d34714bcd7a5d7995a3717",
            "b0f8aec28ca248b9bde40359deca2e98",
            "92676113b5474e9daf599deb651f3de1",
            "d559d4e5866c45a6a72adfff80352cea",
            "b33ca65715594d069a1bdb3bef6c4722",
            "e90de2eb1c8a4ea687abda0e6c2e573e",
            "eb7e9b244ad0464d813f8ab46d49bd6f",
            "1b28e348edc64d069bcc86d2bcbc48d6",
            "c65b77118d09413489420666f205ba21",
            "a111e72facf848d4b959e9817f821112",
            "d4d20d32e05a433fa2bf53aa6cf0edf3",
            "b35677eb32234ce9b97c15ad7be9ac35",
            "b5340457e05946b8a5384ad17813b760",
            "72291aece4c14cb6bbbc12a68008f4f6",
            "d599ab328eed45df8054ff077dea8ed8",
            "131929cf37bc4e5a99e2c5b7a1cf0f21"
          ]
        },
        "id": "lFLETYE4QjHr",
        "outputId": "07e98ada-d796-49a8-c80c-d9deefa335d5"
      },
      "execution_count": 10,
      "outputs": [
        {
          "output_type": "display_data",
          "data": {
            "text/plain": [
              "Downloading https://raw.githubusercontent.com/stanfordnlp/stanza-resources/main/resources_1.11.0.json:   0%|  …"
            ],
            "application/vnd.jupyter.widget-view+json": {
              "version_major": 2,
              "version_minor": 0,
              "model_id": "283789a09a48489bb3122ba365884e7f"
            }
          },
          "metadata": {}
        },
        {
          "output_type": "stream",
          "name": "stderr",
          "text": [
            "INFO:stanza:Downloaded file to /root/stanza_resources/resources.json\n",
            "INFO:stanza:Downloading default packages for language: hi (Hindi) ...\n",
            "INFO:stanza:File exists: /root/stanza_resources/hi/default.zip\n",
            "INFO:stanza:Finished downloading models and saved to /root/stanza_resources\n",
            "INFO:stanza:Checking for updates to resources.json in case models have been updated.  Note: this behavior can be turned off with download_method=None or download_method=DownloadMethod.REUSE_RESOURCES\n"
          ]
        },
        {
          "output_type": "display_data",
          "data": {
            "text/plain": [
              "Downloading https://raw.githubusercontent.com/stanfordnlp/stanza-resources/main/resources_1.11.0.json:   0%|  …"
            ],
            "application/vnd.jupyter.widget-view+json": {
              "version_major": 2,
              "version_minor": 0,
              "model_id": "e90de2eb1c8a4ea687abda0e6c2e573e"
            }
          },
          "metadata": {}
        },
        {
          "output_type": "stream",
          "name": "stderr",
          "text": [
            "INFO:stanza:Downloaded file to /root/stanza_resources/resources.json\n",
            "INFO:stanza:Loading these models for language: hi (Hindi):\n",
            "===========================\n",
            "| Processor | Package     |\n",
            "---------------------------\n",
            "| tokenize  | hdtb        |\n",
            "| pos       | hdtb_charlm |\n",
            "===========================\n",
            "\n",
            "INFO:stanza:Using device: cpu\n",
            "INFO:stanza:Loading: tokenize\n",
            "INFO:stanza:Loading: pos\n",
            "INFO:stanza:Done loading processors!\n"
          ]
        }
      ]
    },
    {
      "cell_type": "code",
      "source": [
        "sentences = [\n",
        "    \"राम स्कूल जा रहा है।\",   # Ram is going to school.\n",
        "    \"सीता आम खा रही है।\",   # Sita is eating a mango.\n",
        "    \"यह एक सुंदर बगीचा है।\", # This is a beautiful garden.\n",
        "    \"मैं किताब पढ़ता हूँ।\"    # I read a book.\n",
        "]\n",
        "for sent in sentences:\n",
        "    doc = nlp(sent)\n",
        "    print(f\"\\nSentence: {sent}\")\n",
        "    for word in doc.sentences[0].words:\n",
        "        print(f\"{word.text}\\t{word.upos}\\t({word.xpos})\")\n"
      ],
      "metadata": {
        "colab": {
          "base_uri": "https://localhost:8080/"
        },
        "id": "sq4_scQqPJEn",
        "outputId": "4be88556-8f43-42ba-c5a0-ea876565a33b"
      },
      "execution_count": 4,
      "outputs": [
        {
          "output_type": "stream",
          "name": "stdout",
          "text": [
            "\n",
            "Sentence: राम स्कूल जा रहा है।\n",
            "राम\tPROPN\t(NNP)\n",
            "स्कूल\tNOUN\t(NN)\n",
            "जा\tVERB\t(VM)\n",
            "रहा\tAUX\t(VAUX)\n",
            "है\tAUX\t(VAUX)\n",
            "।\tPUNCT\t(SYM)\n",
            "\n",
            "Sentence: सीता आम खा रही है।\n",
            "सीता\tPROPN\t(NNP)\n",
            "आम\tADJ\t(JJ)\n",
            "खा\tVERB\t(VM)\n",
            "रही\tAUX\t(VAUX)\n",
            "है\tAUX\t(VAUX)\n",
            "।\tPUNCT\t(SYM)\n",
            "\n",
            "Sentence: यह एक सुंदर बगीचा है।\n",
            "यह\tPRON\t(PRP)\n",
            "एक\tNUM\t(QC)\n",
            "सुंदर\tADJ\t(JJ)\n",
            "बगीचा\tNOUN\t(NN)\n",
            "है\tAUX\t(VM)\n",
            "।\tPUNCT\t(SYM)\n",
            "\n",
            "Sentence: मैं किताब पढ़ता हूँ।\n",
            "मैं\tPRON\t(PRP)\n",
            "किताब\tNOUN\t(NN)\n",
            "पढ़ता\tVERB\t(VM)\n",
            "हूँ\tAUX\t(VAUX)\n",
            "।\tPUNCT\t(SYM)\n"
          ]
        }
      ]
    }
  ]
}