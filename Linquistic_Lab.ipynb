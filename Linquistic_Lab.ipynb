{
  "nbformat": 4,
  "nbformat_minor": 0,
  "metadata": {
    "colab": {
      "provenance": []
    },
    "kernelspec": {
      "name": "python3",
      "display_name": "Python 3"
    },
    "language_info": {
      "name": "python"
    }
  },
  "cells": [
    {
      "cell_type": "markdown",
      "source": [
        "\n",
        "Extract digit from a string\n"
      ],
      "metadata": {
        "id": "IGiDDgAWxYKq"
      }
    },
    {
      "cell_type": "code",
      "execution_count": null,
      "metadata": {
        "id": "noFV7wh0gthY",
        "colab": {
          "base_uri": "https://localhost:8080/"
        },
        "outputId": "5bd9d959-977b-40c0-cdc6-f1f177c50819"
      },
      "outputs": [
        {
          "output_type": "stream",
          "name": "stdout",
          "text": [
            "Enter a string: abcd123efg32hij76767\n",
            "Extracted digits: 1233276767\n"
          ]
        }
      ],
      "source": [
        "#Extract digit from a string\n",
        "\n",
        "string = input(\"Enter a string: \")\n",
        "digits = \"\"\n",
        "\n",
        "for char in string:\n",
        "    if char.isdigit():\n",
        "        digits += char\n",
        "\n",
        "print(\"Extracted digits:\", digits)"
      ]
    },
    {
      "cell_type": "markdown",
      "source": [
        "\n",
        "Extract phone number from a string\n"
      ],
      "metadata": {
        "id": "WfoCosyrxTR5"
      }
    },
    {
      "cell_type": "code",
      "source": [
        "#Extract phone number from a string\n",
        "\n",
        "def extract_phone_numbers(text):\n",
        "    digits = \"\"\n",
        "    phone_numbers = []\n",
        "\n",
        "    for char in text:\n",
        "        if char.isdigit():\n",
        "            digits += char\n",
        "        else:\n",
        "            if len(digits) == 10:\n",
        "                phone_numbers.append(digits)\n",
        "            digits = \"\"\n",
        "\n",
        "    if len(digits) == 10:\n",
        "        phone_numbers.append(digits)\n",
        "\n",
        "    return phone_numbers\n",
        "\n",
        "text = input(\"Enter a string containing 10-digit phone numbers: \")\n",
        "result = extract_phone_numbers(text)\n",
        "if result:\n",
        "    print(\"Phone numbers found:\", result)\n",
        "else:\n",
        "    print(\"No 10-digit phone number found.\")"
      ],
      "metadata": {
        "id": "hY7tp6-8h6ic",
        "colab": {
          "base_uri": "https://localhost:8080/"
        },
        "outputId": "ad2382a3-8dd3-45d4-c0cf-7062cfbbabbb"
      },
      "execution_count": null,
      "outputs": [
        {
          "output_type": "stream",
          "name": "stdout",
          "text": [
            "Enter a string containing 10-digit phone numbers: 1234567890 is my number 0987654321 is his number 0987654323 is her number\n",
            "Phone numbers found: ['1234567890', '0987654321', '0987654323']\n"
          ]
        }
      ]
    },
    {
      "cell_type": "markdown",
      "source": [
        "Extract phone number from a string"
      ],
      "metadata": {
        "id": "cB6mr8HKxPu-"
      }
    },
    {
      "cell_type": "code",
      "source": [
        "#Extract gmail from a string\n",
        "\n",
        "def extract_email(text):\n",
        "    emails = []\n",
        "    current = \"\"\n",
        "    in_email = False\n",
        "    i = 0\n",
        "\n",
        "    while i < len(text):\n",
        "        char = text[i]\n",
        "\n",
        "        # Start collecting if we find a letter, number, or allowed email characters\n",
        "        if char.isalnum() or char in \"@.-_\":\n",
        "            current += char\n",
        "            in_email = True\n",
        "        else:\n",
        "            # If we were building an email and hit a non-email character, check if valid\n",
        "            if in_email:\n",
        "                if is_valid_email(current):\n",
        "                    emails.append(current)\n",
        "                current = \"\"\n",
        "                in_email = False\n",
        "            # Skip spaces or other non-email characters\n",
        "        i += 1\n",
        "\n",
        "    # Check if there's a valid email at the end of the string\n",
        "    if in_email and is_valid_email(current):\n",
        "        emails.append(current)\n",
        "\n",
        "    return emails\n",
        "\n",
        "def is_valid_email(s):\n",
        "    # Check for exactly one @ and at least one . after it\n",
        "    if s.count(\"@\") != 1 or \".\" not in s.split(\"@\")[1]:\n",
        "        return False\n",
        "    # Ensure there's at least one character before and after @\n",
        "    user, domain = s.split(\"@\")\n",
        "    if not user or not domain:\n",
        "        return False\n",
        "    # Basic check for valid characters (alphanumeric, dots, hyphens, underscores)\n",
        "    for char in user:\n",
        "        if not (char.isalnum() or char in \".-_\"):\n",
        "            return False\n",
        "    for char in domain:\n",
        "        if not (char.isalnum() or char in \".-\"):\n",
        "            return False\n",
        "    return True\n",
        "\n",
        "# Get input from user\n",
        "text = input(\"Enter a string containing email addresses: \")\n",
        "result = extract_email(text)\n",
        "if result:\n",
        "    print(\"Email addresses found:\", result)\n",
        "else:\n",
        "    print(\"No valid email addresses found.\")"
      ],
      "metadata": {
        "id": "V1Pc3Mw00eSg"
      },
      "execution_count": null,
      "outputs": []
    },
    {
      "cell_type": "code",
      "source": [
        "#20/08/2025 - WEDNESDAY#"
      ],
      "metadata": {
        "id": "B2CFr7uZ4s7i"
      },
      "execution_count": null,
      "outputs": []
    },
    {
      "cell_type": "markdown",
      "source": [
        "Implement simple rule based tokenizer for the English language, using regular expressions. Your tokenizer should consider  punctuations and special symbols as separate tokens. contractions like 'isn't' should be regarded as two tokens: is and n't, also identify abbreviations(eg: USA) and internal hyphenation(ice-cream) as single tokens"
      ],
      "metadata": {
        "id": "9zUqoZQ4xAHY"
      }
    },
    {
      "cell_type": "markdown",
      "source": [],
      "metadata": {
        "id": "NEt9g_66xJ1w"
      }
    },
    {
      "cell_type": "code",
      "source": [
        "def simple_tokenizer(text):\n",
        "    tokens = []\n",
        "    current = \"\"\n",
        "\n",
        "    for ch in text:\n",
        "        if ch.isalnum() or ch in [\"-\", \"'\"]:   # letters, numbers, hyphen, apostrophe\n",
        "            current += ch\n",
        "        elif ch == \".\":\n",
        "            if current and current[-1].isalpha() and len(current) == 1:\n",
        "                # case like \"U.S.A.\"\n",
        "                current += \".\"\n",
        "            elif current and current[-1] == \".\":\n",
        "                # continuation of abbreviation\n",
        "                current += \".\"\n",
        "            elif current and \".\" in current:\n",
        "                # already abbreviation like U.S.A.\n",
        "                current += \".\"\n",
        "            else:\n",
        "                if current:\n",
        "                    tokens.append(current)\n",
        "                    current = \"\"\n",
        "                tokens.append(\".\")\n",
        "        else:\n",
        "            if current:\n",
        "                tokens.append(current)\n",
        "                current = \"\"\n",
        "            if not ch.isspace():\n",
        "                tokens.append(ch)\n",
        "\n",
        "    if current:\n",
        "        tokens.append(current)\n",
        "\n",
        "    # Fix contractions like isn't -> is + n't\n",
        "    final_tokens = []\n",
        "    for token in tokens:\n",
        "        if \"'\" in token and not token.startswith(\"'\"):\n",
        "            if token.endswith(\"n't\"):  # isn't, don't, can't\n",
        "                final_tokens.append(token[:-3])\n",
        "                final_tokens.append(\"n't\")\n",
        "            else:\n",
        "                idx = token.index(\"'\")\n",
        "                first, second = token[:idx], token[idx:]\n",
        "                if first:\n",
        "                    final_tokens.append(first)\n",
        "                final_tokens.append(second)\n",
        "        else:\n",
        "            final_tokens.append(token)\n",
        "\n",
        "    return final_tokens\n",
        "\n",
        "\n",
        "# Let user enter input\n",
        "text = input(\"Enter a sentence: \")\n",
        "print(simple_tokenizer(text))\n"
      ],
      "metadata": {
        "colab": {
          "base_uri": "https://localhost:8080/"
        },
        "id": "Y6IySWhFq2aH",
        "outputId": "adb6a2d8-66c0-4d17-ae86-fc961f36d2bb"
      },
      "execution_count": 13,
      "outputs": [
        {
          "output_type": "stream",
          "name": "stdout",
          "text": [
            "Enter a sentence: John isn't sure if Dr. Smith lives in the U.S.A., but he's certain that ice-cream, well-known desserts, and cakes are popular there!\n",
            "['John', 'is', \"n't\", 'sure', 'if', 'Dr', '.', 'Smith', 'lives', 'in', 'the', 'U.S.A.', ',', 'but', 'he', \"'s\", 'certain', 'that', 'ice-cream', ',', 'well-known', 'desserts', ',', 'and', 'cakes', 'are', 'popular', 'there', '!']\n"
          ]
        }
      ]
    }
  ]
}